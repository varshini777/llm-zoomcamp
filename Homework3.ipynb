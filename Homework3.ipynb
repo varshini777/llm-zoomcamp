{
 "cells": [
  {
   "cell_type": "code",
   "execution_count": 21,
   "id": "fd8341f2-42ae-49be-b9b3-e05f03257ac3",
   "metadata": {},
   "outputs": [],
   "source": [
    "from sentence_transformers import SentenceTransformer\n",
    "model = SentenceTransformer(\"multi-qa-distilbert-cos-v1\")"
   ]
  },
  {
   "cell_type": "code",
   "execution_count": 22,
   "id": "b0adb2aa-eba5-4315-bd52-0d76e828b782",
   "metadata": {},
   "outputs": [],
   "source": [
    "user_question = \"I just discovered the course. Can I still join it?\""
   ]
  },
  {
   "cell_type": "code",
   "execution_count": 23,
   "id": "24a8b8d4-bd5b-4f65-b5db-3cdf49c04e84",
   "metadata": {},
   "outputs": [
    {
     "name": "stdout",
     "output_type": "stream",
     "text": [
      "0.078222655\n"
     ]
    }
   ],
   "source": [
    "k = model.encode(user_question)\n",
    "res=k[0]\n",
    "print(res)"
   ]
  },
  {
   "cell_type": "code",
   "execution_count": 30,
   "id": "e4ae57c4-6acd-4b73-b00f-d83068efef33",
   "metadata": {},
   "outputs": [],
   "source": [
    "import requests \n",
    "\n",
    "base_url = 'https://github.com/DataTalksClub/llm-zoomcamp/blob/main'\n",
    "relative_url = '03-vector-search/eval/documents-with-ids.json'\n",
    "docs_url = f'{base_url}/{relative_url}?raw=1'\n",
    "docs_response = requests.get(docs_url)\n",
    "documents = docs_response.json()"
   ]
  },
  {
   "cell_type": "code",
   "execution_count": 31,
   "id": "b9b7e5cd-211a-4355-b236-138d82abe9b7",
   "metadata": {},
   "outputs": [],
   "source": [
    "filtered_documents = [doc for doc in documents if doc.get('course') == 'machine-learning-zoomcamp']"
   ]
  },
  {
   "cell_type": "code",
   "execution_count": 32,
   "id": "5a132998-4ba7-4d62-9969-b28c6d2bcadc",
   "metadata": {},
   "outputs": [],
   "source": [
    "import numpy as np\n",
    "embeddings=[]\n",
    "for doc in filtered_documents:\n",
    "    question = doc.get('question', '')\n",
    "    text = doc.get('text', '')\n",
    "    qa_text = f'{question} {text}'\n",
    "    embedding = model.encode(qa_text)\n",
    "    embeddings.append(embedding)\n",
    "X = np.array(embeddings)"
   ]
  },
  {
   "cell_type": "code",
   "execution_count": 12,
   "id": "86543962-abdb-45ff-abce-805c4d68fd9c",
   "metadata": {},
   "outputs": [
    {
     "name": "stdout",
     "output_type": "stream",
     "text": [
      "(375, 768)\n"
     ]
    }
   ],
   "source": [
    "print(X.shape)"
   ]
  },
  {
   "cell_type": "code",
   "execution_count": 13,
   "id": "d673fcc6-388c-4745-8b64-0ddf2a55803c",
   "metadata": {},
   "outputs": [],
   "source": [
    "scores = X.dot(k)"
   ]
  },
  {
   "cell_type": "code",
   "execution_count": 14,
   "id": "9da7de8c-818f-4f3d-823e-062f5847373a",
   "metadata": {},
   "outputs": [
    {
     "name": "stdout",
     "output_type": "stream",
     "text": [
      "0.6506573\n"
     ]
    }
   ],
   "source": [
    "highest_score = np.max(scores)\n",
    "print(highest_score)"
   ]
  },
  {
   "cell_type": "code",
   "execution_count": 34,
   "id": "e1a5451f-9256-4384-95cd-bf139a3067a8",
   "metadata": {},
   "outputs": [],
   "source": [
    "class VectorSearchEngine():\n",
    "    def __init__(self, documents, embeddings):\n",
    "        self.documents = documents\n",
    "        self.embeddings = embeddings\n",
    "\n",
    "    def search(self, v_query, num_results=10):\n",
    "        scores = self.embeddings.dot(v_query)\n",
    "        idx = np.argpartition(-scores,num_results)[:num_results]\n",
    "        return [self.documents[i] for i in idx]\n",
    "\n",
    "search_engine = VectorSearchEngine(documents=filtered_documents, embeddings=X)"
   ]
  },
  {
   "cell_type": "code",
   "execution_count": 35,
   "id": "6ec6cee0-9f1a-4dd8-a018-855c129dd2b7",
   "metadata": {},
   "outputs": [
    {
     "name": "stdout",
     "output_type": "stream",
     "text": [
      "Sample ground truth records: [{'question': 'Where can I sign up for the course?', 'course': 'machine-learning-zoomcamp', 'document': '0227b872'}, {'question': 'Can you provide a link to sign up?', 'course': 'machine-learning-zoomcamp', 'document': '0227b872'}, {'question': 'Is there an FAQ for this Machine Learning course?', 'course': 'machine-learning-zoomcamp', 'document': '0227b872'}]\n"
     ]
    }
   ],
   "source": [
    "import pandas as pd\n",
    "ground_truth_url = f'{base_url}/03-vector-search/eval/ground-truth-data.csv?raw=1'\n",
    "df_ground_truth = pd.read_csv(ground_truth_url)\n",
    "df_ground_truth = df_ground_truth[df_ground_truth.course == 'machine-learning-zoomcamp']\n",
    "ground_truth = df_ground_truth.to_dict(orient='records')\n",
    "print(\"Sample ground truth records:\", ground_truth[:3])"
   ]
  },
  {
   "cell_type": "code",
   "execution_count": 36,
   "id": "3ba397f0-7cb7-462a-8c05-da2c6464eb26",
   "metadata": {},
   "outputs": [
    {
     "name": "stdout",
     "output_type": "stream",
     "text": [
      "0.9398907103825137\n"
     ]
    }
   ],
   "source": [
    "hits = 0\n",
    "for item in ground_truth:\n",
    "    query_embedding = model.encode(item['question'])\n",
    "    results = search_engine.search(query_embedding, num_results=5)\n",
    "    if any('id' in result and result['id'] == item['document'] for result in results):\n",
    "        hits += 1\n",
    "\n",
    "hitrate = hits / len(ground_truth)\n",
    "print(hitrate)"
   ]
  },
  {
   "cell_type": "code",
   "execution_count": null,
   "id": "5d162585-6adb-46df-8819-b3721041b5e1",
   "metadata": {},
   "outputs": [],
   "source": []
  }
 ],
 "metadata": {
  "kernelspec": {
   "display_name": "Python 3 (ipykernel)",
   "language": "python",
   "name": "python3"
  },
  "language_info": {
   "codemirror_mode": {
    "name": "ipython",
    "version": 3
   },
   "file_extension": ".py",
   "mimetype": "text/x-python",
   "name": "python",
   "nbconvert_exporter": "python",
   "pygments_lexer": "ipython3",
   "version": "3.10.13"
  }
 },
 "nbformat": 4,
 "nbformat_minor": 5
}
